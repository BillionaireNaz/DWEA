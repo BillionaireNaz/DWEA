{
 "cells": [
  {
   "cell_type": "code",
   "execution_count": 1,
   "id": "8505f9f2-e98a-4cd7-8198-f9122e160eb7",
   "metadata": {},
   "outputs": [],
   "source": [
    "import requests\n",
    "from bs4 import BeautifulSoup"
   ]
  },
  {
   "cell_type": "code",
   "execution_count": 2,
   "id": "696df587-8027-4238-b27e-c5be36bb3961",
   "metadata": {},
   "outputs": [],
   "source": [
    "url = 'https://en.wikipedia.org/wiki/Germany'\n",
    "response = requests.get(url)\n",
    "soup = BeautifulSoup(response.content, 'html.parser')"
   ]
  },
  {
   "cell_type": "code",
   "execution_count": 3,
   "id": "f505d1ac-87ee-41a4-a51c-4b6c5dc81ed4",
   "metadata": {},
   "outputs": [
    {
     "data": {
      "text/plain": [
       "'Germany - Wikipedia'"
      ]
     },
     "execution_count": 3,
     "metadata": {},
     "output_type": "execute_result"
    }
   ],
   "source": [
    "title = soup.find('title').text\n",
    "title"
   ]
  },
  {
   "cell_type": "code",
   "execution_count": 5,
   "id": "68a16d50-b6d4-464e-9c75-1290ab2789e8",
   "metadata": {},
   "outputs": [
    {
     "name": "stdout",
     "output_type": "stream",
     "text": [
      "Main article: \n",
      "History of Germany\n"
     ]
    }
   ],
   "source": [
    "chinaza = soup.find_all('div' , class_ = \"hatnote navigation-not-searchable\")\n",
    "for i in chinaza[3]:\n",
    "    print(i.text)"
   ]
  },
  {
   "cell_type": "code",
   "execution_count": 6,
   "id": "d071d390-3b25-4d84-92c6-fb7abb4c453b",
   "metadata": {},
   "outputs": [
    {
     "name": "stdout",
     "output_type": "stream",
     "text": [
      "Main article: History of Germany\n"
     ]
    }
   ],
   "source": [
    "chinaza = soup.select_one('div.hatnote.navigation-not-searchable:nth-of-type(4)')\n",
    "print(chinaza.text if chinaza else None)"
   ]
  },
  {
   "cell_type": "code",
   "execution_count": 7,
   "id": "7f2b82cc-7fc3-4d7b-af8a-7b9f996d6553",
   "metadata": {},
   "outputs": [],
   "source": [
    "# Find all  tags with the class 'mw-default-size'\n",
    "all_picture_links = soup.find_all('figure', class_='mw-default-size')"
   ]
  },
  {
   "cell_type": "code",
   "execution_count": 8,
   "id": "c7f019c9-7026-4222-b5b6-244ede862b6e",
   "metadata": {},
   "outputs": [
    {
     "name": "stdout",
     "output_type": "stream",
     "text": [
      "/wiki/File:Trier_012.JPG\n",
      "/wiki/File:East_Francia_843.svg\n",
      "/wiki/File:Lucas_Cranach_d.%C3%84._-_Martin_Luther,_1528_(Veste_Coburg).jpg\n",
      "/wiki/File:German_Confederation_(1815).svg\n",
      "/wiki/File:Berlin_Nationaldenkmal_Kaiser_Wilhelm_mit_Schloss_1900.jpg\n",
      "/wiki/File:Hitler_portrait_crop.jpg\n",
      "/wiki/File:Europe_under_Nazi_domination.png\n",
      "/wiki/File:West_and_East_Germans_at_the_Brandenburg_Gate_in_1989.jpg\n",
      "/wiki/File:Deutschland_topo.jpg\n",
      "/wiki/File:Herbst_am_Watzmann.jpg\n",
      "/wiki/File:Group_photo_of_the_G7_members_at_the_Scholss_Elmau_summit_(2).jpg\n",
      "/wiki/File:Sp%C3%BCrpanzer_Fuchs.jpg\n",
      "/wiki/File:Frankfurter_Altstadt_mit_Skyline_2019_(100MP).jpg\n",
      "/wiki/File:Electromobility_Summit_Berlin_2013_-_Angela_Merkel.JPG\n",
      "/wiki/File:ICE_3_Oberhaider-Wald-Tunnel.jpg\n",
      "/wiki/File:Lisberg_Burg_Windr%C3%A4der_Solar_power_PC313027.jpg\n",
      "/wiki/File:Schloss_Neuschwanstein_2013.jpg\n",
      "/wiki/File:Bilinguale_Stra%C3%9Fenbeschilderung_Cottbus.jpg\n",
      "/wiki/File:500px_photo_(70560973).jpeg\n",
      "/wiki/File:Heidelberg_Universit%C3%A4tsbibliothek_2003.jpg\n",
      "/wiki/File:Heiligen-Geist-Hospital_in_L%C3%BCbeck.JPG\n",
      "/wiki/File:Striezelmarkt_2009_00950.jpg\n",
      "/wiki/File:Joseph_Karl_Stieler%27s_Beethoven_mit_dem_Manuskript_der_Missa_solemnis.jpg\n",
      "/wiki/File:Grimm.jpg\n",
      "/wiki/File:Filmstudio_Babelsberg_Eingang.jpg\n",
      "/wiki/File:BavarianLunch.jpg\n",
      "/wiki/File:Germany_champions_2014_FIFA_World_Cup.jpg\n"
     ]
    }
   ],
   "source": [
    "# Loop through each  element found\n",
    "for i in all_picture_links:\n",
    "    # Find the first  tag within the  that has an href attribute\n",
    "    link = i.find('a', href=True)\n",
    "    # If the  tag exists, print the value of the href attribute (the link)\n",
    "    if link:\n",
    "        print(link['href'])"
   ]
  },
  {
   "cell_type": "code",
   "execution_count": 9,
   "id": "d8deba67-591a-4a42-a6d7-3ca5185a346c",
   "metadata": {},
   "outputs": [
    {
     "name": "stdout",
     "output_type": "stream",
     "text": [
      "(Top)\n",
      "1\n",
      "Etymology\n",
      "2\n",
      "History\n",
      "2.1\n",
      "Prehistory\n",
      "2.2\n",
      "Germanic tribes, Roman frontier and the Frankish Empire\n",
      "2.3\n",
      "East Francia and the Holy Roman Empire\n",
      "2.4\n",
      "German Confederation and Empire\n",
      "2.5\n",
      "Weimar Republic and Nazi Germany\n",
      "2.6\n",
      "East and West Germany\n",
      "2.7\n",
      "Reunified Germany and the European Union\n",
      "3\n",
      "Geography\n",
      "3.1\n",
      "Climate\n",
      "3.2\n",
      "Biodiversity\n",
      "4\n",
      "Politics\n",
      "4.1\n",
      "Constituent states\n",
      "4.2\n",
      "Law\n",
      "4.3\n",
      "Foreign relations\n",
      "4.4\n",
      "Military\n",
      "5\n",
      "Economy\n",
      "5.1\n",
      "Infrastructure\n",
      "5.2\n",
      "Tourism\n",
      "6\n",
      "Demographics\n",
      "6.1\n",
      "Religion\n",
      "6.2\n",
      "Languages\n",
      "6.3\n",
      "Education\n",
      "6.4\n",
      "Health\n",
      "7\n",
      "Culture\n",
      "7.1\n",
      "Music\n",
      "7.2\n",
      "Art, design and architecture\n",
      "7.3\n",
      "Literature and philosophy\n",
      "7.4\n",
      "Media\n",
      "7.5\n",
      "Cuisine\n",
      "7.6\n",
      "Sports\n",
      "8\n",
      "See also\n",
      "9\n",
      "Notes\n",
      "10\n",
      "References\n",
      "11\n",
      "External links\n"
     ]
    }
   ],
   "source": [
    "toc = soup.find('ul', class_ = 'vector-toc-contents')\n",
    "headings = toc.find_all('div', class_ = 'vector-toc-text')\n",
    "for heading in headings:\n",
    "    print(heading.text.strip())"
   ]
  },
  {
   "cell_type": "code",
   "execution_count": null,
   "id": "80f36679-0398-4155-82ec-f07d293a18d2",
   "metadata": {},
   "outputs": [],
   "source": []
  }
 ],
 "metadata": {
  "kernelspec": {
   "display_name": "Python 3 (ipykernel)",
   "language": "python",
   "name": "python3"
  },
  "language_info": {
   "codemirror_mode": {
    "name": "ipython",
    "version": 3
   },
   "file_extension": ".py",
   "mimetype": "text/x-python",
   "name": "python",
   "nbconvert_exporter": "python",
   "pygments_lexer": "ipython3",
   "version": "3.12.7"
  }
 },
 "nbformat": 4,
 "nbformat_minor": 5
}
