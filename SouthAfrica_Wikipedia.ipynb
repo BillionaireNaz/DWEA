{
 "cells": [
  {
   "cell_type": "code",
   "execution_count": 1,
   "id": "095c12d7-0c57-40c5-b9b0-2b07e8eb4b1c",
   "metadata": {},
   "outputs": [
    {
     "name": "stdout",
     "output_type": "stream",
     "text": [
      "Defaulting to user installation because normal site-packages is not writeable\n",
      "Requirement already satisfied: requests in c:\\programdata\\anaconda3\\lib\\site-packages (2.32.3)\n",
      "Collecting bs4\n",
      "  Downloading bs4-0.0.2-py2.py3-none-any.whl.metadata (411 bytes)\n",
      "Requirement already satisfied: charset-normalizer<4,>=2 in c:\\programdata\\anaconda3\\lib\\site-packages (from requests) (3.3.2)\n",
      "Requirement already satisfied: idna<4,>=2.5 in c:\\programdata\\anaconda3\\lib\\site-packages (from requests) (3.7)\n",
      "Requirement already satisfied: urllib3<3,>=1.21.1 in c:\\programdata\\anaconda3\\lib\\site-packages (from requests) (2.2.3)\n",
      "Requirement already satisfied: certifi>=2017.4.17 in c:\\programdata\\anaconda3\\lib\\site-packages (from requests) (2024.8.30)\n",
      "Requirement already satisfied: beautifulsoup4 in c:\\programdata\\anaconda3\\lib\\site-packages (from bs4) (4.12.3)\n",
      "Requirement already satisfied: soupsieve>1.2 in c:\\programdata\\anaconda3\\lib\\site-packages (from beautifulsoup4->bs4) (2.5)\n",
      "Downloading bs4-0.0.2-py2.py3-none-any.whl (1.2 kB)\n",
      "Installing collected packages: bs4\n",
      "Successfully installed bs4-0.0.2\n",
      "Note: you may need to restart the kernel to use updated packages.\n"
     ]
    }
   ],
   "source": [
    "pip install requests bs4"
   ]
  },
  {
   "cell_type": "code",
   "execution_count": 1,
   "id": "b7859d85-bb2a-4c39-9b79-0f0b4fd76cfe",
   "metadata": {},
   "outputs": [],
   "source": [
    "import requests \n",
    "from bs4 import BeautifulSoup"
   ]
  },
  {
   "cell_type": "code",
   "execution_count": 4,
   "id": "2e8646f2-5da6-47b0-948b-b1ca1e1bc495",
   "metadata": {},
   "outputs": [],
   "source": [
    "url = 'https://en.wikipedia.org/wiki/South_Africa'\n",
    "response = requests.get(url)\n",
    "soup = BeautifulSoup(response.content, 'html.parser')"
   ]
  },
  {
   "cell_type": "code",
   "execution_count": 5,
   "id": "236cd55a-1df0-4cba-8c81-73efc1d4ebed",
   "metadata": {},
   "outputs": [
    {
     "data": {
      "text/plain": [
       "'South Africa - Wikipedia'"
      ]
     },
     "execution_count": 5,
     "metadata": {},
     "output_type": "execute_result"
    }
   ],
   "source": [
    "title = soup.find('title').text\n",
    "title"
   ]
  },
  {
   "cell_type": "code",
   "execution_count": 11,
   "id": "0c830bfd-3850-41eb-b677-20c98a08d071",
   "metadata": {},
   "outputs": [
    {
     "name": "stdout",
     "output_type": "stream",
     "text": [
      "\"Mzansi\" redirects here. For other uses, see Mzansi (disambiguation).\n",
      "This article is about the country. For the geographical area, see Southern Africa. For other uses, see South Africa (disambiguation).\n",
      "See also: List of official names of South Africa\n",
      "Main article: History of South Africa\n",
      "Main article: Bantu expansion\n",
      "See also: Portuguese discoveries\n",
      "Main articles: Dutch Cape Colony and Boer Republics\n",
      "Main articles: Mfecane, Invasion of the Cape Colony, Cape Colony, Great Trek, British Bechuanaland, and Colony of Natal\n",
      "Main articles: Boer Wars, First Boer War, and Second Boer War\n",
      "See also: Union of South Africa, Military history of South Africa during World War I, and Military history of South Africa during World War II\n",
      "Main article: Apartheid\n",
      "Further information: Disinvestment from South Africa\n",
      "Further information: History of South Africa (1994–present)\n",
      "Main article: Geography of South Africa\n",
      "Main article: Climate of South Africa\n",
      "Main article: Biodiversity of South Africa\n",
      "See also: Wildlife of South Africa, Protected areas of South Africa, and Marine biodiversity of South Africa\n",
      "Main article: Demographics of South Africa\n",
      "Main article: Languages of South Africa\n",
      "Main article: Religion in South Africa\n",
      "Main article: Education in South Africa\n",
      "Main articles: Health in South Africa and Healthcare in South Africa\n",
      "Main article: HIV/AIDS in South Africa\n",
      "Main articles: Government of South Africa, Politics of South Africa, and Law of South Africa\n",
      "See also: LGBT rights in South Africa and Human rights in South Africa\n",
      "Main article: Foreign relations of South Africa\n",
      "Main article: South African National Defence Force\n",
      "Main articles: Law enforcement in South Africa and Crime in South Africa\n",
      "Main articles: Administrative divisions of South Africa and Provinces of South Africa\n",
      "Main article: Economy of South Africa\n",
      "Main article: Mining in South Africa\n",
      "Main article: Rail transport in South Africa\n",
      "Main article: List of airports in South Africa\n",
      "Main article: Energy in South Africa\n",
      "See also: Eskom and List of power stations in South Africa\n",
      "Main article: South African energy crisis\n",
      "Main article: Science and technology in South Africa\n",
      "Main article: Transport in South Africa\n",
      "Main article: Water supply and sanitation in South Africa\n",
      "Main article: Culture of South Africa\n",
      "Further information: Music of South Africa\n",
      "Main article: South African literature\n",
      "Main article: South African cuisine\n",
      "See also: South African wine\n",
      "Main article: Sport in South Africa\n"
     ]
    }
   ],
   "source": [
    "ogechi = soup.find_all('div', class_ = \"hatnote navigation-not-searchable\")\n",
    "for i in ogechi:\n",
    "    print(i.text)"
   ]
  },
  {
   "cell_type": "code",
   "execution_count": null,
   "id": "accbe71e-3d91-499f-9980-1512f61a2f31",
   "metadata": {},
   "outputs": [],
   "source": []
  }
 ],
 "metadata": {
  "kernelspec": {
   "display_name": "Python 3 (ipykernel)",
   "language": "python",
   "name": "python3"
  },
  "language_info": {
   "codemirror_mode": {
    "name": "ipython",
    "version": 3
   },
   "file_extension": ".py",
   "mimetype": "text/x-python",
   "name": "python",
   "nbconvert_exporter": "python",
   "pygments_lexer": "ipython3",
   "version": "3.12.7"
  }
 },
 "nbformat": 4,
 "nbformat_minor": 5
}
